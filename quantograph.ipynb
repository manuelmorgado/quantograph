{
 "cells": [
  {
   "cell_type": "markdown",
   "metadata": {},
   "source": [
    "# _*Quantograph*_\n",
    "\n",
    "\n",
    "*Quantograph* is a toy for making pixel art animations using quantum computation.\n",
    "\n",
    "To get started, just click on the arrow to the left of the box below to load the control panel. This let's you choose:\n",
    "\n",
    "* The image your animation will be based on;\n",
    "* The number of frames you want;\n",
    "* Various quantum parameters that control the animation.\n",
    "\n",
    "Once you've made your choices, see the instructions below the box."
   ]
  },
  {
   "cell_type": "code",
   "execution_count": null,
   "metadata": {
    "scrolled": false
   },
   "outputs": [],
   "source": [
    "from quantograph import *\n",
    "control_panel = control_panel()\n",
    "display(control_panel)"
   ]
  },
  {
   "cell_type": "markdown",
   "metadata": {},
   "source": [
    "Now you've chosen your parameters, click on the arrow to the left of the box below to create your animation."
   ]
  },
  {
   "cell_type": "code",
   "execution_count": null,
   "metadata": {},
   "outputs": [],
   "source": [
    "filename = renderer(control_panel)\n",
    "display(Markdown('![]('+filename+')'))"
   ]
  }
 ],
 "metadata": {
  "kernelspec": {
   "display_name": "Python 3",
   "language": "python",
   "name": "python3"
  },
  "language_info": {
   "codemirror_mode": {
    "name": "ipython",
    "version": 3
   },
   "file_extension": ".py",
   "mimetype": "text/x-python",
   "name": "python",
   "nbconvert_exporter": "python",
   "pygments_lexer": "ipython3",
   "version": "3.7.0"
  }
 },
 "nbformat": 4,
 "nbformat_minor": 2
}
