{
 "cells": [
  {
   "cell_type": "markdown",
   "metadata": {},
   "source": [
    "# *Quantograph*\n",
    "\n",
    "\n",
    "*Quantograph* is a toy for making pixel art animations using quantum computation.\n",
    "\n",
    "You will be given a control panel with which you can set up your animation. This let's you choose:\n",
    "\n",
    "* The image your animation will be based on;\n",
    "* The number of frames you want;\n",
    "* Various quantum parameters that control the animation (you are not expected to understand them!).\n",
    "\n",
    "To get started, just click on the arrow to the left of the box below (if you don't see an arrow, click inside the box and press Shift-Enter). After a small wait, you'll get your control panel.\n",
    "\n",
    "Once you've made your choices, see the instructions below the control panel."
   ]
  },
  {
   "cell_type": "code",
   "execution_count": 1,
   "metadata": {
    "scrolled": false
   },
   "outputs": [
    {
     "data": {
      "application/vnd.jupyter.widget-view+json": {
       "model_id": "8abf82ef5065468cb9c79a6d14cca4a6",
       "version_major": 2,
       "version_minor": 0
      },
      "text/plain": [
       "VBox(children=(Dropdown(description='Base Image:', options=('Plumber', 'White'), value='Plumber'), IntSlider(v…"
      ]
     },
     "metadata": {},
     "output_type": "display_data"
    }
   ],
   "source": [
    "from quantograph import *\n",
    "control_panel = control_panel()\n",
    "display(control_panel)"
   ]
  },
  {
   "cell_type": "markdown",
   "metadata": {},
   "source": [
    "Now you've chosen your parameters, click on the arrow to the left of the box below (or press Shift-Enter) to render your animation."
   ]
  },
  {
   "cell_type": "code",
   "execution_count": 2,
   "metadata": {},
   "outputs": [
    {
     "data": {
      "application/vnd.jupyter.widget-view+json": {
       "model_id": "",
       "version_major": 2,
       "version_minor": 0
      },
      "text/plain": [
       "IntProgress(value=0, description='Rendering:', max=20)"
      ]
     },
     "metadata": {},
     "output_type": "display_data"
    },
    {
     "data": {
      "text/markdown": [
       "![](outputs/Plumber_2019_3_29@12:23:18.png)"
      ],
      "text/plain": [
       "<IPython.core.display.Markdown object>"
      ]
     },
     "metadata": {},
     "output_type": "display_data"
    }
   ],
   "source": [
    "filename = renderer(control_panel)\n",
    "display(Markdown('![]('+filename+')'))"
   ]
  }
 ],
 "metadata": {
  "kernelspec": {
   "display_name": "Python 3",
   "language": "python",
   "name": "python3"
  },
  "language_info": {
   "codemirror_mode": {
    "name": "ipython",
    "version": 3
   },
   "file_extension": ".py",
   "mimetype": "text/x-python",
   "name": "python",
   "nbconvert_exporter": "python",
   "pygments_lexer": "ipython3",
   "version": "3.7.0"
  }
 },
 "nbformat": 4,
 "nbformat_minor": 2
}
